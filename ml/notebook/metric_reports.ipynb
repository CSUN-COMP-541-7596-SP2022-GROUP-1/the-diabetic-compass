{
 "cells": [
  {
   "cell_type": "code",
   "execution_count": 1,
   "id": "92e110e3",
   "metadata": {},
   "outputs": [],
   "source": [
    "#imports\n",
    "import pandas as pd\n",
    "import numpy as np\n",
    "from sklearn.linear_model import LogisticRegression\n",
    "from sklearn.ensemble import RandomForestClassifier\n",
    "from sklearn.model_selection import train_test_split\n",
    "from sklearn.metrics import accuracy_score\n",
    "from sklearn.metrics import classification_report\n",
    "from sklearn import preprocessing"
   ]
  },
  {
   "cell_type": "code",
   "execution_count": 2,
   "id": "66495291",
   "metadata": {},
   "outputs": [],
   "source": [
    "#importing data set\n",
    "dataframe = pd.read_csv('Dataset/data_balanced.csv')"
   ]
  },
  {
   "cell_type": "code",
   "execution_count": 3,
   "id": "c985b127",
   "metadata": {},
   "outputs": [],
   "source": [
    "#normalization\n",
    "def minmax_norm(subject):\n",
    "    dataframe[subject] = (dataframe[subject] - dataframe[subject].min()) / (dataframe[subject].max() - dataframe[subject].min())"
   ]
  },
  {
   "cell_type": "code",
   "execution_count": 4,
   "id": "900806bc",
   "metadata": {},
   "outputs": [],
   "source": [
    "minmax_norm('BMI')\n",
    "minmax_norm('GenHlth')\n",
    "minmax_norm('Age')\n",
    "minmax_norm('Education')\n",
    "minmax_norm('Income')"
   ]
  },
  {
   "cell_type": "code",
   "execution_count": 5,
   "id": "05c6b1e6",
   "metadata": {},
   "outputs": [],
   "source": [
    "#removing subject from other attributes\n",
    "split = [\"HighBP\",'HighChol','CholCheck','BMI',\"Smoker\",'Stroke','HeartDiseaseorAttack','PhysActivity','Fruits','Veggies','HvyAlcoholConsump','AnyHealthcare','NoDocbcCost','GenHlth','DiffWalk','Sex','Age','Education','Income']\n",
    "subject = dataframe.Diabetes_binary\n",
    "dataframe = pd.read_csv('Dataset/data_balanced.csv')[split]"
   ]
  },
  {
   "cell_type": "code",
   "execution_count": 6,
   "id": "2dea3054",
   "metadata": {},
   "outputs": [
    {
     "name": "stdout",
     "output_type": "stream",
     "text": [
      "(56267, 19) (56267,) (14067, 19) (14067,)\n"
     ]
    }
   ],
   "source": [
    "#prints set shape\n",
    "sub_train,sub_test,all_train,all_test = train_test_split(dataframe,subject,test_size=.20)\n",
    "print(sub_train.shape,all_train.shape,sub_test.shape, all_test.shape)"
   ]
  },
  {
   "cell_type": "code",
   "execution_count": 7,
   "id": "9af4ab7d",
   "metadata": {},
   "outputs": [
    {
     "name": "stderr",
     "output_type": "stream",
     "text": [
      "C:\\Users\\Joshua\\anaconda3\\lib\\site-packages\\sklearn\\linear_model\\_logistic.py:763: ConvergenceWarning: lbfgs failed to converge (status=1):\n",
      "STOP: TOTAL NO. of ITERATIONS REACHED LIMIT.\n",
      "\n",
      "Increase the number of iterations (max_iter) or scale the data as shown in:\n",
      "    https://scikit-learn.org/stable/modules/preprocessing.html\n",
      "Please also refer to the documentation for alternative solver options:\n",
      "    https://scikit-learn.org/stable/modules/linear_model.html#logistic-regression\n",
      "  n_iter_i = _check_optimize_result(\n"
     ]
    },
    {
     "data": {
      "text/plain": [
       "LogisticRegression()"
      ]
     },
     "execution_count": 7,
     "metadata": {},
     "output_type": "execute_result"
    }
   ],
   "source": [
    "#runs logistic regression fit\n",
    "logreg = LogisticRegression()\n",
    "logreg.fit(sub_train,all_train)"
   ]
  },
  {
   "cell_type": "code",
   "execution_count": 8,
   "id": "3b23c55b",
   "metadata": {},
   "outputs": [
    {
     "data": {
      "text/plain": [
       "RandomForestClassifier()"
      ]
     },
     "execution_count": 8,
     "metadata": {},
     "output_type": "execute_result"
    }
   ],
   "source": [
    "#runs random forest fit\n",
    "ranfor = RandomForestClassifier()\n",
    "ranfor.fit(sub_train,all_train)"
   ]
  },
  {
   "cell_type": "code",
   "execution_count": 9,
   "id": "e208b746",
   "metadata": {},
   "outputs": [
    {
     "name": "stderr",
     "output_type": "stream",
     "text": [
      "C:\\Users\\Joshua\\anaconda3\\lib\\site-packages\\sklearn\\linear_model\\_logistic.py:763: ConvergenceWarning: lbfgs failed to converge (status=1):\n",
      "STOP: TOTAL NO. of ITERATIONS REACHED LIMIT.\n",
      "\n",
      "Increase the number of iterations (max_iter) or scale the data as shown in:\n",
      "    https://scikit-learn.org/stable/modules/preprocessing.html\n",
      "Please also refer to the documentation for alternative solver options:\n",
      "    https://scikit-learn.org/stable/modules/linear_model.html#logistic-regression\n",
      "  n_iter_i = _check_optimize_result(\n"
     ]
    }
   ],
   "source": [
    "#running predictive models\n",
    "Predict_logreg = logreg.fit(sub_train, all_train).predict(sub_test)\n",
    "Predict_ranfor = ranfor.fit(sub_train, all_train).predict(sub_test)"
   ]
  },
  {
   "cell_type": "code",
   "execution_count": 10,
   "id": "a7a17def",
   "metadata": {},
   "outputs": [
    {
     "name": "stdout",
     "output_type": "stream",
     "text": [
      "logreg accuracy :  0.7435131868913059\n",
      "ranfor accuracy :  0.7245325940143599\n"
     ]
    }
   ],
   "source": [
    "score_lr = accuracy_score(all_test,Predict_logreg)\n",
    "score_rf = accuracy_score(all_test,Predict_ranfor)\n",
    "print(\"logreg accuracy : \", score_lr)\n",
    "print(\"ranfor accuracy : \", score_rf)"
   ]
  },
  {
   "cell_type": "code",
   "execution_count": 11,
   "id": "25353d17",
   "metadata": {},
   "outputs": [
    {
     "name": "stdout",
     "output_type": "stream",
     "text": [
      "logreg metric report:\n",
      "              precision    recall  f1-score   support\n",
      "\n",
      "           0       0.76      0.72      0.74      7074\n",
      "           1       0.73      0.77      0.75      6993\n",
      "\n",
      "    accuracy                           0.74     14067\n",
      "   macro avg       0.74      0.74      0.74     14067\n",
      "weighted avg       0.74      0.74      0.74     14067\n",
      "\n",
      "ranfor metric report:\n",
      "              precision    recall  f1-score   support\n",
      "\n",
      "           0       0.75      0.69      0.71      7074\n",
      "           1       0.71      0.76      0.73      6993\n",
      "\n",
      "    accuracy                           0.72     14067\n",
      "   macro avg       0.73      0.72      0.72     14067\n",
      "weighted avg       0.73      0.72      0.72     14067\n",
      "\n"
     ]
    }
   ],
   "source": [
    "print(\"logreg metric report:\\n\" + classification_report(all_test,Predict_logreg))\n",
    "print(\"ranfor metric report:\\n\" + classification_report(all_test,Predict_ranfor))"
   ]
  },
  {
   "cell_type": "code",
   "execution_count": null,
   "id": "7ed9b632",
   "metadata": {},
   "outputs": [],
   "source": []
  }
 ],
 "metadata": {
  "kernelspec": {
   "display_name": "Python 3 (ipykernel)",
   "language": "python",
   "name": "python3"
  },
  "language_info": {
   "codemirror_mode": {
    "name": "ipython",
    "version": 3
   },
   "file_extension": ".py",
   "mimetype": "text/x-python",
   "name": "python",
   "nbconvert_exporter": "python",
   "pygments_lexer": "ipython3",
   "version": "3.9.7"
  }
 },
 "nbformat": 4,
 "nbformat_minor": 5
}
